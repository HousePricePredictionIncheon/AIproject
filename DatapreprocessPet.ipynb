{
  "nbformat": 4,
  "nbformat_minor": 0,
  "metadata": {
    "colab": {
      "name": "Untitled2.ipynb",
      "provenance": [],
      "authorship_tag": "ABX9TyN7t3ion5cHWy2jWtEmtCXt",
      "include_colab_link": true
    },
    "kernelspec": {
      "name": "python3",
      "display_name": "Python 3"
    },
    "language_info": {
      "name": "python"
    }
  },
  "cells": [
    {
      "cell_type": "markdown",
      "metadata": {
        "id": "view-in-github",
        "colab_type": "text"
      },
      "source": [
        "<a href=\"https://colab.research.google.com/github/simjeongho/AIproject/blob/main/DatapreprocessPet.ipynb\" target=\"_parent\"><img src=\"https://colab.research.google.com/assets/colab-badge.svg\" alt=\"Open In Colab\"/></a>"
      ]
    },
    {
      "cell_type": "code",
      "execution_count": 24,
      "metadata": {
        "id": "hBacykbWJ5NV"
      },
      "outputs": [],
      "source": [
        "import json\n",
        "import openpyxl\n",
        "import pandas as pd\n",
        "import numpy as np\n",
        "wb = openpyxl.load_workbook(\"afterParkReal2.xlsx\", read_only=False, data_only=False)\n",
        "ws = wb['Sheet1']\n",
        "var=[]"
      ]
    },
    {
      "cell_type": "code",
      "source": [
        "print(ws.cell(row=154, column=2).value)"
      ],
      "metadata": {
        "colab": {
          "base_uri": "https://localhost:8080/"
        },
        "id": "cMqxA4oRLm10",
        "outputId": "306b31c2-0659-4b4d-f7b2-8014ae387ec0"
      },
      "execution_count": 25,
      "outputs": [
        {
          "output_type": "stream",
          "name": "stdout",
          "text": [
            "계산동\n"
          ]
        }
      ]
    },
    {
      "cell_type": "code",
      "source": [
        "print(ws.cell(row=18, column=16).value)"
      ],
      "metadata": {
        "colab": {
          "base_uri": "https://localhost:8080/"
        },
        "id": "3SKcU-4ML1Ho",
        "outputId": "ede8b3fb-fa1f-4d3e-ca8e-ae5873b457e2"
      },
      "execution_count": 30,
      "outputs": [
        {
          "output_type": "stream",
          "name": "stdout",
          "text": [
            "0\n"
          ]
        }
      ]
    },
    {
      "cell_type": "code",
      "source": [
        "for y in range(18, 24472):\n",
        "  ws.cell(row=y, column=16).value = 0"
      ],
      "metadata": {
        "id": "oAGLdTLdLgtm"
      },
      "execution_count": 29,
      "outputs": []
    },
    {
      "cell_type": "code",
      "source": [
        "for x in range(18,158):\n",
        "  for y in range(18, 24472):\n",
        "    if(ws.cell(row=y, column=2).value == ws.cell(row=x, column=17).value):\n",
        "      ws.cell(row=y, column=16).value = ws.cell(row=x, column=18).value"
      ],
      "metadata": {
        "id": "GufW6_nPKpC_"
      },
      "execution_count": 31,
      "outputs": []
    },
    {
      "cell_type": "code",
      "source": [
        "wb.save('afterParkPetReal.xlsx')"
      ],
      "metadata": {
        "id": "kEG0aL-IMBg6"
      },
      "execution_count": 32,
      "outputs": []
    }
  ]
}