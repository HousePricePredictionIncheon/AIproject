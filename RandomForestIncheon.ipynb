{
  "nbformat": 4,
  "nbformat_minor": 0,
  "metadata": {
    "colab": {
      "name": "RandomForestIncheon.ipynb",
      "provenance": [],
      "authorship_tag": "ABX9TyOYgdoqdeeK48byOYHqWAD0",
      "include_colab_link": true
    },
    "kernelspec": {
      "name": "python3",
      "display_name": "Python 3"
    },
    "language_info": {
      "name": "python"
    }
  },
  "cells": [
    {
      "cell_type": "markdown",
      "metadata": {
        "id": "view-in-github",
        "colab_type": "text"
      },
      "source": [
        "<a href=\"https://colab.research.google.com/github/simjeongho/AIproject/blob/main/RandomForestIncheon.ipynb\" target=\"_parent\"><img src=\"https://colab.research.google.com/assets/colab-badge.svg\" alt=\"Open In Colab\"/></a>"
      ]
    },
    {
      "cell_type": "markdown",
      "source": [
        "# RANDOM FOREST"
      ],
      "metadata": {
        "id": "nB2WMP9fYzly"
      }
    },
    {
      "cell_type": "code",
      "source": [
        "import pandas as pd # 데이터프레임 형태를 다룰 수 있는 라이브러리\n",
        "import numpy as np\n",
        "from sklearn.model_selection import train_test_split # 전체 데이터를 학습 데이터와 평가 데이터로 나눈다.\n",
        "from sklearn.preprocessing import  MinMaxScaler\n",
        "from sklearn.metrics import mean_squared_error\n",
        "from sklearn.metrics import r2_score\n",
        "# ANN\n",
        "import torch\n",
        "from torch import nn, optim # torch 내의 세부적인 기능을 불러온다. (신경망 기술, 손실함수, 최적화 방법 등)\n",
        "from torch.utils.data import DataLoader, Dataset # 데이터를 모델에 사용할 수 있도록 정리해 주는 라이브러리\n",
        "import torch.nn.functional as F # torch 내의 세부적인 기능을 불러온다. (신경망 기술 등)\n",
        "\n",
        "# Loss\n",
        "from sklearn.metrics import mean_squared_error # Regression 문제의 평가를 위해 MSE(Mean Squared Error)를 불러온다.\n",
        "\n",
        "# Plot\n",
        "import matplotlib.pyplot as plt # 시각화 도구\n",
        "import seaborn as sns"
      ],
      "metadata": {
        "id": "axvjdoZsY53a"
      },
      "execution_count": 1,
      "outputs": []
    },
    {
      "cell_type": "code",
      "source": [
        "file_name = '/AllData.xlsx'\n",
        "df = pd.read_excel(file_name)\n",
        "display(df)"
      ],
      "metadata": {
        "colab": {
          "base_uri": "https://localhost:8080/",
          "height": 467
        },
        "id": "fQAOPRZCZshp",
        "outputId": "c59611d1-80ee-4e43-e632-6b1105870906"
      },
      "execution_count": 2,
      "outputs": [
        {
          "output_type": "display_data",
          "data": {
            "text/plain": [
              "                     시군구  읍면동     번지   본번  부번  전용면적(㎡)    계약년월  계약일  \\\n",
              "0      인천광역시 강화군 강화읍 갑곳리  강화읍  165-1  165   1   114.86  202105    3   \n",
              "1      인천광역시 강화군 강화읍 갑곳리  강화읍  165-1  165   1    84.89  202107   29   \n",
              "2      인천광역시 강화군 강화읍 갑곳리  강화읍  165-1  165   1    59.99  202108   27   \n",
              "3      인천광역시 강화군 강화읍 갑곳리  강화읍  165-1  165   1    59.99  202108   27   \n",
              "4      인천광역시 강화군 강화읍 갑곳리  강화읍  165-1  165   1   114.86  202109   19   \n",
              "...                  ...  ...    ...  ...  ..      ...     ...  ...   \n",
              "24449      인천광역시 중구 항동7가   항동   91-2   91   2    53.66  202111   26   \n",
              "24450      인천광역시 중구 항동7가   항동   91-2   91   2    53.66  202111   26   \n",
              "24451      인천광역시 중구 항동7가   항동   91-2   91   2    53.66  202112    8   \n",
              "24452      인천광역시 중구 항동7가   항동   91-2   91   2    53.66  202112    9   \n",
              "24453      인천광역시 중구 항동7가   항동   91-2   91   2    53.66  202112   10   \n",
              "\n",
              "             거래금액(만원)   층  건축년도       도로명  대규모 점포  근린 공원  반려동물 등록수  병원  학교  \\\n",
              "0              21,500   4  2001    갑룡길 35       0      0      1245  21  15   \n",
              "1              21,200  12  2001    갑룡길 35       0      0      1245  21  15   \n",
              "2              10,000   6  2001    갑룡길 35       0      0      1245  21  15   \n",
              "3              10,000   6  2001    갑룡길 35       0      0      1245  21  15   \n",
              "4              22,500   2  2001    갑룡길 35       0      0      1245  21  15   \n",
              "...               ...  ..   ...       ...     ...    ...       ...  ..  ..   \n",
              "24449          34,000   5  1983  축항대로 234       0      0       504   8   2   \n",
              "24450          34,000   5  1983  축항대로 234       0      0       504   8   2   \n",
              "24451          32,000   3  1983  축항대로 234       0      0       504   8   2   \n",
              "24452          34,000   5  1983  축항대로 234       0      0       504   8   2   \n",
              "24453          32,600   3  1983  축항대로 234       0      0       504   8   2   \n",
              "\n",
              "       station  starbucks  \n",
              "0            0          1  \n",
              "1            0          1  \n",
              "2            0          1  \n",
              "3            0          1  \n",
              "4            0          1  \n",
              "...        ...        ...  \n",
              "24449        0          0  \n",
              "24450        0          0  \n",
              "24451        0          0  \n",
              "24452        0          0  \n",
              "24453        0          0  \n",
              "\n",
              "[24454 rows x 19 columns]"
            ],
            "text/html": [
              "\n",
              "  <div id=\"df-982a64f1-a2b1-4e04-9267-fc04178a9c4d\">\n",
              "    <div class=\"colab-df-container\">\n",
              "      <div>\n",
              "<style scoped>\n",
              "    .dataframe tbody tr th:only-of-type {\n",
              "        vertical-align: middle;\n",
              "    }\n",
              "\n",
              "    .dataframe tbody tr th {\n",
              "        vertical-align: top;\n",
              "    }\n",
              "\n",
              "    .dataframe thead th {\n",
              "        text-align: right;\n",
              "    }\n",
              "</style>\n",
              "<table border=\"1\" class=\"dataframe\">\n",
              "  <thead>\n",
              "    <tr style=\"text-align: right;\">\n",
              "      <th></th>\n",
              "      <th>시군구</th>\n",
              "      <th>읍면동</th>\n",
              "      <th>번지</th>\n",
              "      <th>본번</th>\n",
              "      <th>부번</th>\n",
              "      <th>전용면적(㎡)</th>\n",
              "      <th>계약년월</th>\n",
              "      <th>계약일</th>\n",
              "      <th>거래금액(만원)</th>\n",
              "      <th>층</th>\n",
              "      <th>건축년도</th>\n",
              "      <th>도로명</th>\n",
              "      <th>대규모 점포</th>\n",
              "      <th>근린 공원</th>\n",
              "      <th>반려동물 등록수</th>\n",
              "      <th>병원</th>\n",
              "      <th>학교</th>\n",
              "      <th>station</th>\n",
              "      <th>starbucks</th>\n",
              "    </tr>\n",
              "  </thead>\n",
              "  <tbody>\n",
              "    <tr>\n",
              "      <th>0</th>\n",
              "      <td>인천광역시 강화군 강화읍 갑곳리</td>\n",
              "      <td>강화읍</td>\n",
              "      <td>165-1</td>\n",
              "      <td>165</td>\n",
              "      <td>1</td>\n",
              "      <td>114.86</td>\n",
              "      <td>202105</td>\n",
              "      <td>3</td>\n",
              "      <td>21,500</td>\n",
              "      <td>4</td>\n",
              "      <td>2001</td>\n",
              "      <td>갑룡길 35</td>\n",
              "      <td>0</td>\n",
              "      <td>0</td>\n",
              "      <td>1245</td>\n",
              "      <td>21</td>\n",
              "      <td>15</td>\n",
              "      <td>0</td>\n",
              "      <td>1</td>\n",
              "    </tr>\n",
              "    <tr>\n",
              "      <th>1</th>\n",
              "      <td>인천광역시 강화군 강화읍 갑곳리</td>\n",
              "      <td>강화읍</td>\n",
              "      <td>165-1</td>\n",
              "      <td>165</td>\n",
              "      <td>1</td>\n",
              "      <td>84.89</td>\n",
              "      <td>202107</td>\n",
              "      <td>29</td>\n",
              "      <td>21,200</td>\n",
              "      <td>12</td>\n",
              "      <td>2001</td>\n",
              "      <td>갑룡길 35</td>\n",
              "      <td>0</td>\n",
              "      <td>0</td>\n",
              "      <td>1245</td>\n",
              "      <td>21</td>\n",
              "      <td>15</td>\n",
              "      <td>0</td>\n",
              "      <td>1</td>\n",
              "    </tr>\n",
              "    <tr>\n",
              "      <th>2</th>\n",
              "      <td>인천광역시 강화군 강화읍 갑곳리</td>\n",
              "      <td>강화읍</td>\n",
              "      <td>165-1</td>\n",
              "      <td>165</td>\n",
              "      <td>1</td>\n",
              "      <td>59.99</td>\n",
              "      <td>202108</td>\n",
              "      <td>27</td>\n",
              "      <td>10,000</td>\n",
              "      <td>6</td>\n",
              "      <td>2001</td>\n",
              "      <td>갑룡길 35</td>\n",
              "      <td>0</td>\n",
              "      <td>0</td>\n",
              "      <td>1245</td>\n",
              "      <td>21</td>\n",
              "      <td>15</td>\n",
              "      <td>0</td>\n",
              "      <td>1</td>\n",
              "    </tr>\n",
              "    <tr>\n",
              "      <th>3</th>\n",
              "      <td>인천광역시 강화군 강화읍 갑곳리</td>\n",
              "      <td>강화읍</td>\n",
              "      <td>165-1</td>\n",
              "      <td>165</td>\n",
              "      <td>1</td>\n",
              "      <td>59.99</td>\n",
              "      <td>202108</td>\n",
              "      <td>27</td>\n",
              "      <td>10,000</td>\n",
              "      <td>6</td>\n",
              "      <td>2001</td>\n",
              "      <td>갑룡길 35</td>\n",
              "      <td>0</td>\n",
              "      <td>0</td>\n",
              "      <td>1245</td>\n",
              "      <td>21</td>\n",
              "      <td>15</td>\n",
              "      <td>0</td>\n",
              "      <td>1</td>\n",
              "    </tr>\n",
              "    <tr>\n",
              "      <th>4</th>\n",
              "      <td>인천광역시 강화군 강화읍 갑곳리</td>\n",
              "      <td>강화읍</td>\n",
              "      <td>165-1</td>\n",
              "      <td>165</td>\n",
              "      <td>1</td>\n",
              "      <td>114.86</td>\n",
              "      <td>202109</td>\n",
              "      <td>19</td>\n",
              "      <td>22,500</td>\n",
              "      <td>2</td>\n",
              "      <td>2001</td>\n",
              "      <td>갑룡길 35</td>\n",
              "      <td>0</td>\n",
              "      <td>0</td>\n",
              "      <td>1245</td>\n",
              "      <td>21</td>\n",
              "      <td>15</td>\n",
              "      <td>0</td>\n",
              "      <td>1</td>\n",
              "    </tr>\n",
              "    <tr>\n",
              "      <th>...</th>\n",
              "      <td>...</td>\n",
              "      <td>...</td>\n",
              "      <td>...</td>\n",
              "      <td>...</td>\n",
              "      <td>...</td>\n",
              "      <td>...</td>\n",
              "      <td>...</td>\n",
              "      <td>...</td>\n",
              "      <td>...</td>\n",
              "      <td>...</td>\n",
              "      <td>...</td>\n",
              "      <td>...</td>\n",
              "      <td>...</td>\n",
              "      <td>...</td>\n",
              "      <td>...</td>\n",
              "      <td>...</td>\n",
              "      <td>...</td>\n",
              "      <td>...</td>\n",
              "      <td>...</td>\n",
              "    </tr>\n",
              "    <tr>\n",
              "      <th>24449</th>\n",
              "      <td>인천광역시 중구 항동7가</td>\n",
              "      <td>항동</td>\n",
              "      <td>91-2</td>\n",
              "      <td>91</td>\n",
              "      <td>2</td>\n",
              "      <td>53.66</td>\n",
              "      <td>202111</td>\n",
              "      <td>26</td>\n",
              "      <td>34,000</td>\n",
              "      <td>5</td>\n",
              "      <td>1983</td>\n",
              "      <td>축항대로 234</td>\n",
              "      <td>0</td>\n",
              "      <td>0</td>\n",
              "      <td>504</td>\n",
              "      <td>8</td>\n",
              "      <td>2</td>\n",
              "      <td>0</td>\n",
              "      <td>0</td>\n",
              "    </tr>\n",
              "    <tr>\n",
              "      <th>24450</th>\n",
              "      <td>인천광역시 중구 항동7가</td>\n",
              "      <td>항동</td>\n",
              "      <td>91-2</td>\n",
              "      <td>91</td>\n",
              "      <td>2</td>\n",
              "      <td>53.66</td>\n",
              "      <td>202111</td>\n",
              "      <td>26</td>\n",
              "      <td>34,000</td>\n",
              "      <td>5</td>\n",
              "      <td>1983</td>\n",
              "      <td>축항대로 234</td>\n",
              "      <td>0</td>\n",
              "      <td>0</td>\n",
              "      <td>504</td>\n",
              "      <td>8</td>\n",
              "      <td>2</td>\n",
              "      <td>0</td>\n",
              "      <td>0</td>\n",
              "    </tr>\n",
              "    <tr>\n",
              "      <th>24451</th>\n",
              "      <td>인천광역시 중구 항동7가</td>\n",
              "      <td>항동</td>\n",
              "      <td>91-2</td>\n",
              "      <td>91</td>\n",
              "      <td>2</td>\n",
              "      <td>53.66</td>\n",
              "      <td>202112</td>\n",
              "      <td>8</td>\n",
              "      <td>32,000</td>\n",
              "      <td>3</td>\n",
              "      <td>1983</td>\n",
              "      <td>축항대로 234</td>\n",
              "      <td>0</td>\n",
              "      <td>0</td>\n",
              "      <td>504</td>\n",
              "      <td>8</td>\n",
              "      <td>2</td>\n",
              "      <td>0</td>\n",
              "      <td>0</td>\n",
              "    </tr>\n",
              "    <tr>\n",
              "      <th>24452</th>\n",
              "      <td>인천광역시 중구 항동7가</td>\n",
              "      <td>항동</td>\n",
              "      <td>91-2</td>\n",
              "      <td>91</td>\n",
              "      <td>2</td>\n",
              "      <td>53.66</td>\n",
              "      <td>202112</td>\n",
              "      <td>9</td>\n",
              "      <td>34,000</td>\n",
              "      <td>5</td>\n",
              "      <td>1983</td>\n",
              "      <td>축항대로 234</td>\n",
              "      <td>0</td>\n",
              "      <td>0</td>\n",
              "      <td>504</td>\n",
              "      <td>8</td>\n",
              "      <td>2</td>\n",
              "      <td>0</td>\n",
              "      <td>0</td>\n",
              "    </tr>\n",
              "    <tr>\n",
              "      <th>24453</th>\n",
              "      <td>인천광역시 중구 항동7가</td>\n",
              "      <td>항동</td>\n",
              "      <td>91-2</td>\n",
              "      <td>91</td>\n",
              "      <td>2</td>\n",
              "      <td>53.66</td>\n",
              "      <td>202112</td>\n",
              "      <td>10</td>\n",
              "      <td>32,600</td>\n",
              "      <td>3</td>\n",
              "      <td>1983</td>\n",
              "      <td>축항대로 234</td>\n",
              "      <td>0</td>\n",
              "      <td>0</td>\n",
              "      <td>504</td>\n",
              "      <td>8</td>\n",
              "      <td>2</td>\n",
              "      <td>0</td>\n",
              "      <td>0</td>\n",
              "    </tr>\n",
              "  </tbody>\n",
              "</table>\n",
              "<p>24454 rows × 19 columns</p>\n",
              "</div>\n",
              "      <button class=\"colab-df-convert\" onclick=\"convertToInteractive('df-982a64f1-a2b1-4e04-9267-fc04178a9c4d')\"\n",
              "              title=\"Convert this dataframe to an interactive table.\"\n",
              "              style=\"display:none;\">\n",
              "        \n",
              "  <svg xmlns=\"http://www.w3.org/2000/svg\" height=\"24px\"viewBox=\"0 0 24 24\"\n",
              "       width=\"24px\">\n",
              "    <path d=\"M0 0h24v24H0V0z\" fill=\"none\"/>\n",
              "    <path d=\"M18.56 5.44l.94 2.06.94-2.06 2.06-.94-2.06-.94-.94-2.06-.94 2.06-2.06.94zm-11 1L8.5 8.5l.94-2.06 2.06-.94-2.06-.94L8.5 2.5l-.94 2.06-2.06.94zm10 10l.94 2.06.94-2.06 2.06-.94-2.06-.94-.94-2.06-.94 2.06-2.06.94z\"/><path d=\"M17.41 7.96l-1.37-1.37c-.4-.4-.92-.59-1.43-.59-.52 0-1.04.2-1.43.59L10.3 9.45l-7.72 7.72c-.78.78-.78 2.05 0 2.83L4 21.41c.39.39.9.59 1.41.59.51 0 1.02-.2 1.41-.59l7.78-7.78 2.81-2.81c.8-.78.8-2.07 0-2.86zM5.41 20L4 18.59l7.72-7.72 1.47 1.35L5.41 20z\"/>\n",
              "  </svg>\n",
              "      </button>\n",
              "      \n",
              "  <style>\n",
              "    .colab-df-container {\n",
              "      display:flex;\n",
              "      flex-wrap:wrap;\n",
              "      gap: 12px;\n",
              "    }\n",
              "\n",
              "    .colab-df-convert {\n",
              "      background-color: #E8F0FE;\n",
              "      border: none;\n",
              "      border-radius: 50%;\n",
              "      cursor: pointer;\n",
              "      display: none;\n",
              "      fill: #1967D2;\n",
              "      height: 32px;\n",
              "      padding: 0 0 0 0;\n",
              "      width: 32px;\n",
              "    }\n",
              "\n",
              "    .colab-df-convert:hover {\n",
              "      background-color: #E2EBFA;\n",
              "      box-shadow: 0px 1px 2px rgba(60, 64, 67, 0.3), 0px 1px 3px 1px rgba(60, 64, 67, 0.15);\n",
              "      fill: #174EA6;\n",
              "    }\n",
              "\n",
              "    [theme=dark] .colab-df-convert {\n",
              "      background-color: #3B4455;\n",
              "      fill: #D2E3FC;\n",
              "    }\n",
              "\n",
              "    [theme=dark] .colab-df-convert:hover {\n",
              "      background-color: #434B5C;\n",
              "      box-shadow: 0px 1px 3px 1px rgba(0, 0, 0, 0.15);\n",
              "      filter: drop-shadow(0px 1px 2px rgba(0, 0, 0, 0.3));\n",
              "      fill: #FFFFFF;\n",
              "    }\n",
              "  </style>\n",
              "\n",
              "      <script>\n",
              "        const buttonEl =\n",
              "          document.querySelector('#df-982a64f1-a2b1-4e04-9267-fc04178a9c4d button.colab-df-convert');\n",
              "        buttonEl.style.display =\n",
              "          google.colab.kernel.accessAllowed ? 'block' : 'none';\n",
              "\n",
              "        async function convertToInteractive(key) {\n",
              "          const element = document.querySelector('#df-982a64f1-a2b1-4e04-9267-fc04178a9c4d');\n",
              "          const dataTable =\n",
              "            await google.colab.kernel.invokeFunction('convertToInteractive',\n",
              "                                                     [key], {});\n",
              "          if (!dataTable) return;\n",
              "\n",
              "          const docLinkHtml = 'Like what you see? Visit the ' +\n",
              "            '<a target=\"_blank\" href=https://colab.research.google.com/notebooks/data_table.ipynb>data table notebook</a>'\n",
              "            + ' to learn more about interactive tables.';\n",
              "          element.innerHTML = '';\n",
              "          dataTable['output_type'] = 'display_data';\n",
              "          await google.colab.output.renderOutput(dataTable, element);\n",
              "          const docLink = document.createElement('div');\n",
              "          docLink.innerHTML = docLinkHtml;\n",
              "          element.appendChild(docLink);\n",
              "        }\n",
              "      </script>\n",
              "    </div>\n",
              "  </div>\n",
              "  "
            ]
          },
          "metadata": {}
        }
      ]
    },
    {
      "cell_type": "code",
      "source": [
        "print(df['거래금액(만원)']) # 우리가 타겟 값으로 지정할 거래금액 (정답지)\n",
        "df.info()"
      ],
      "metadata": {
        "colab": {
          "base_uri": "https://localhost:8080/"
        },
        "id": "kKOKDQMpZ4yi",
        "outputId": "e27d7de3-6f88-4fa2-8a45-3788cad40aa4"
      },
      "execution_count": 3,
      "outputs": [
        {
          "output_type": "stream",
          "name": "stdout",
          "text": [
            "0                21,500\n",
            "1                21,200\n",
            "2                10,000\n",
            "3                10,000\n",
            "4                22,500\n",
            "              ...      \n",
            "24449            34,000\n",
            "24450            34,000\n",
            "24451            32,000\n",
            "24452            34,000\n",
            "24453            32,600\n",
            "Name: 거래금액(만원), Length: 24454, dtype: object\n",
            "<class 'pandas.core.frame.DataFrame'>\n",
            "RangeIndex: 24454 entries, 0 to 24453\n",
            "Data columns (total 19 columns):\n",
            " #   Column     Non-Null Count  Dtype  \n",
            "---  ------     --------------  -----  \n",
            " 0   시군구        24454 non-null  object \n",
            " 1   읍면동        24454 non-null  object \n",
            " 2   번지         24454 non-null  object \n",
            " 3   본번         24454 non-null  int64  \n",
            " 4   부번         24454 non-null  int64  \n",
            " 5   전용면적(㎡)    24454 non-null  float64\n",
            " 6   계약년월       24454 non-null  int64  \n",
            " 7   계약일        24454 non-null  int64  \n",
            " 8   거래금액(만원)   24454 non-null  object \n",
            " 9   층          24454 non-null  int64  \n",
            " 10  건축년도       24454 non-null  int64  \n",
            " 11  도로명        24454 non-null  object \n",
            " 12  대규모 점포     24454 non-null  int64  \n",
            " 13  근린 공원      24454 non-null  int64  \n",
            " 14  반려동물 등록수   24454 non-null  int64  \n",
            " 15  병원         24454 non-null  int64  \n",
            " 16  학교         24454 non-null  int64  \n",
            " 17  station    24454 non-null  int64  \n",
            " 18  starbucks  24454 non-null  int64  \n",
            "dtypes: float64(1), int64(13), object(5)\n",
            "memory usage: 3.5+ MB\n"
          ]
        }
      ]
    },
    {
      "cell_type": "markdown",
      "source": [
        "정규 표현식을 이용해 날짜 형식 확인"
      ],
      "metadata": {
        "id": "E8Kk9mQgZ8ON"
      }
    },
    {
      "cell_type": "code",
      "source": [
        "import re\n",
        "def regex(data):\n",
        "    pattern = re.compile('^[0-9]{6}')\n",
        "    match = pattern.match(data)\n",
        "    if match:\n",
        "        return True\n",
        "    else:\n",
        "        return False\n",
        "date_pattern_check_series = df['계약년월'].apply(lambda data: regex(str(data)))\n",
        "print(all(date_pattern_check_series))\n",
        "del date_pattern_check_series"
      ],
      "metadata": {
        "colab": {
          "base_uri": "https://localhost:8080/"
        },
        "id": "f_1coCWgZ_zV",
        "outputId": "08990cca-59e6-4946-8f87-49d79bdb8e46"
      },
      "execution_count": 4,
      "outputs": [
        {
          "output_type": "stream",
          "name": "stdout",
          "text": [
            "True\n"
          ]
        }
      ]
    },
    {
      "cell_type": "markdown",
      "source": [
        "데이터 자료형 모두 float32형으로 변경해줌"
      ],
      "metadata": {
        "id": "PvOl2TzCaHpO"
      }
    },
    {
      "cell_type": "code",
      "source": [
        "df_copy = df.copy();\n",
        "drop_list = ['번지','본번','부번','계약일','도로명']\n",
        "for i in drop_list:\n",
        "  df_copy = df_copy.drop(i, axis= 1) # 필요 없는 특성은 df에서 제거해준다. \n",
        "df_copy['거래금액(만원)'] = df_copy['거래금액(만원)'].str.replace(',','')\n",
        "df_copy.rename(columns={'전용면적(㎡)':'전용면적', '거래금액(만원)': '거래금액'}, inplace=True) # 이름 재정의 \n",
        "df_copy['시군구'] = df_copy['시군구'].astype('category').cat.rename_categories({string : i for i,string in enumerate(df_copy['시군구'].unique())})\n",
        "df_copy['읍면동'] = df_copy['읍면동'].astype('category').cat.rename_categories({string : i for i,string in enumerate(df_copy['읍면동'].unique())})\n",
        "df_copy['전용면적'] = df_copy['전용면적'].astype('float32')\n",
        "df_copy['계약년월'] = df_copy['계약년월'].astype('float32')\n",
        "df_copy['거래금액'] = df_copy['거래금액'].astype('float32')\n",
        "df_copy['층'] = df_copy['층'].astype('float32')\n",
        "df_copy['건축년도'] = df_copy['건축년도'].astype('float32')\n",
        "df_copy['대규모 점포'] = df_copy['대규모 점포'].astype('float32')\n",
        "df_copy['근린 공원'] = df_copy['근린 공원'].astype('float32')\n",
        "df_copy['반려동물 등록수'] = df_copy['반려동물 등록수'].astype('float32')\n",
        "df_copy['병원'] = df_copy['병원'].astype('float32')\n",
        "df_copy['학교'] = df_copy['학교'].astype('float32')\n",
        "df_copy['station'] = df_copy['station'].astype('float32')\n",
        "df_copy['starbucks'] = df_copy['starbucks'].astype('float32')\n",
        "df_copy.head()\n",
        "df_copy.info()"
      ],
      "metadata": {
        "colab": {
          "base_uri": "https://localhost:8080/"
        },
        "id": "bD_hylgBaEvQ",
        "outputId": "aa1ec333-e5e8-4512-cf34-dc59171cf82a"
      },
      "execution_count": 5,
      "outputs": [
        {
          "output_type": "stream",
          "name": "stdout",
          "text": [
            "<class 'pandas.core.frame.DataFrame'>\n",
            "RangeIndex: 24454 entries, 0 to 24453\n",
            "Data columns (total 14 columns):\n",
            " #   Column     Non-Null Count  Dtype   \n",
            "---  ------     --------------  -----   \n",
            " 0   시군구        24454 non-null  category\n",
            " 1   읍면동        24454 non-null  category\n",
            " 2   전용면적       24454 non-null  float32 \n",
            " 3   계약년월       24454 non-null  float32 \n",
            " 4   거래금액       24454 non-null  float32 \n",
            " 5   층          24454 non-null  float32 \n",
            " 6   건축년도       24454 non-null  float32 \n",
            " 7   대규모 점포     24454 non-null  float32 \n",
            " 8   근린 공원      24454 non-null  float32 \n",
            " 9   반려동물 등록수   24454 non-null  float32 \n",
            " 10  병원         24454 non-null  float32 \n",
            " 11  학교         24454 non-null  float32 \n",
            " 12  station    24454 non-null  float32 \n",
            " 13  starbucks  24454 non-null  float32 \n",
            "dtypes: category(2), float32(12)\n",
            "memory usage: 1.2 MB\n"
          ]
        }
      ]
    },
    {
      "cell_type": "markdown",
      "source": [
        "데이터의 각 범주별로 범위가 다르므로 minmaxScaler를 통해 모든 데이터를 0 ~ 1사이의 값으로 변경해준다."
      ],
      "metadata": {
        "id": "lzLE7Q8maUF6"
      }
    },
    {
      "cell_type": "code",
      "source": [
        "df_copy['계약년월'] = df_copy['계약년월'].astype('float32')\n",
        "df_copy_make = df_copy.filter(['전용면적', '계약년월', '거래금액', '층','건축년도','대규모 점포','근린 공원','반려동물 등록수', '병원','학교','station','starbucks'])\n",
        "df_copy_make.info()\n",
        "X = df_copy_make.drop('거래금액', axis=1).to_numpy() #데이터 프레임에서 타겟값(거래금액(만원))을 제외하고 넘파이 배열로 만들어준다.\n",
        "Y = df_copy_make['거래금액'].to_numpy().reshape((-1,1)) # 데이터 프레임 형태의 타겟 값을 넘파이 배열로 만들어준다.\n",
        "#데이터 스케일링\n",
        "#sklearn에서 제공하는 MinMaxScaler\n",
        "#(X- min(X)) / (max(X)-min(X))을 계산 \n",
        "scaler = MinMaxScaler()\n",
        "scaler.fit(X)\n",
        "X = scaler.transform(X)\n",
        "\n",
        "scaler.fit(Y)\n",
        "Y = scaler.transform(Y)"
      ],
      "metadata": {
        "colab": {
          "base_uri": "https://localhost:8080/"
        },
        "id": "rY-QQ9VBaMAv",
        "outputId": "d5ff3650-6fc9-495f-93aa-6d75216da5d6"
      },
      "execution_count": 6,
      "outputs": [
        {
          "output_type": "stream",
          "name": "stdout",
          "text": [
            "<class 'pandas.core.frame.DataFrame'>\n",
            "RangeIndex: 24454 entries, 0 to 24453\n",
            "Data columns (total 12 columns):\n",
            " #   Column     Non-Null Count  Dtype  \n",
            "---  ------     --------------  -----  \n",
            " 0   전용면적       24454 non-null  float32\n",
            " 1   계약년월       24454 non-null  float32\n",
            " 2   거래금액       24454 non-null  float32\n",
            " 3   층          24454 non-null  float32\n",
            " 4   건축년도       24454 non-null  float32\n",
            " 5   대규모 점포     24454 non-null  float32\n",
            " 6   근린 공원      24454 non-null  float32\n",
            " 7   반려동물 등록수   24454 non-null  float32\n",
            " 8   병원         24454 non-null  float32\n",
            " 9   학교         24454 non-null  float32\n",
            " 10  station    24454 non-null  float32\n",
            " 11  starbucks  24454 non-null  float32\n",
            "dtypes: float32(12)\n",
            "memory usage: 1.1 MB\n"
          ]
        }
      ]
    },
    {
      "cell_type": "code",
      "source": [
        "# 각 변수들의 상관계수 파악 \n",
        "df_copy_english = df_copy.copy()\n",
        "df_copy_english.rename(columns={'전용면적':'area', '읍면동': 'town', '거래금액': 'price', '시군구' : 'city', '계약년월' : 'contractyear', '층': 'floor', '건축년도': 'yoConstruct', '대규모 점포': 'bigmarket', '근린 공원': 'park', '반려동물 등록수':'pet', '병원': 'hospital', '학교': 'school'}, inplace=True)\n",
        "df_copy_english.info()"
      ],
      "metadata": {
        "colab": {
          "base_uri": "https://localhost:8080/"
        },
        "id": "dOea8tZ5hCuK",
        "outputId": "614ae7f0-e19e-4fed-ac5b-7614e87c6162"
      },
      "execution_count": 24,
      "outputs": [
        {
          "output_type": "stream",
          "name": "stdout",
          "text": [
            "<class 'pandas.core.frame.DataFrame'>\n",
            "RangeIndex: 24454 entries, 0 to 24453\n",
            "Data columns (total 14 columns):\n",
            " #   Column        Non-Null Count  Dtype   \n",
            "---  ------        --------------  -----   \n",
            " 0   city          24454 non-null  category\n",
            " 1   town          24454 non-null  category\n",
            " 2   area          24454 non-null  float32 \n",
            " 3   contractyear  24454 non-null  float32 \n",
            " 4   price         24454 non-null  float32 \n",
            " 5   floor         24454 non-null  float32 \n",
            " 6   yoConstruct   24454 non-null  float32 \n",
            " 7   bigmarket     24454 non-null  float32 \n",
            " 8   park          24454 non-null  float32 \n",
            " 9   pet           24454 non-null  float32 \n",
            " 10  hospital      24454 non-null  float32 \n",
            " 11  school        24454 non-null  float32 \n",
            " 12  station       24454 non-null  float32 \n",
            " 13  starbucks     24454 non-null  float32 \n",
            "dtypes: category(2), float32(12)\n",
            "memory usage: 1.2 MB\n"
          ]
        }
      ]
    },
    {
      "cell_type": "markdown",
      "source": [
        "big market과 school사이의 상관계수가 0.69\n",
        "hospital과 pet사이의 상관계수가 0.9 \n",
        "big market과 hospital사이의 상관계수가 0.66\n",
        "big market과 pet사이의 상관계수가 0.62\n",
        "school과 hospital 사이의 상관계수가 0.63\n",
        "상식적으로 연관이 있는 데이터끼리 상관계수가 높게 나왔으므로 유의미한 데이터라고 판단할 수 있음 하지만 너무 상관계수가 높은 데이터들끼리만 치우쳐져 있을 경우 overfitting과 같은 문제가 발생할 수 있다. \n"
      ],
      "metadata": {
        "id": "R-EkWSyrnHse"
      }
    },
    {
      "cell_type": "code",
      "source": [
        "#상관계수 분석 \n",
        "plt.figure(figsize=(12,6))\n",
        "sns.heatmap(df_copy_english.select_dtypes(np.number).corr(),annot=True)\n",
        "plt.show()"
      ],
      "metadata": {
        "colab": {
          "base_uri": "https://localhost:8080/",
          "height": 432
        },
        "id": "cMGbBBdBmjGd",
        "outputId": "4443d373-cbcc-4602-9c8d-0b0ae88ace0b"
      },
      "execution_count": 25,
      "outputs": [
        {
          "output_type": "display_data",
          "data": {
            "text/plain": [
              "<Figure size 864x432 with 2 Axes>"
            ],
            "image/png": "[encoded data removed]"
          },
          "metadata": {
            "needs_background": "light"
          }
        }
      ]
    },
    {
      "cell_type": "code",
      "source": [
        "#데이터를 텐셔 형태로 변환해주는 클래스 \n",
        "class TensorData(Dataset):\n",
        "  def __init__(self, x_data, y_data):\n",
        "    self.x_data = torch.FloatTensor(x_data)# Double Tensor는 Float64로 변환 Float Tensor는 Float32로 변환 \n",
        "    self.y_data = torch.FloatTensor(y_data)\n",
        "    self.len = self.y_data.shape[0]\n",
        "\n",
        "  def __getitem__(self, index) :\n",
        "    return self.x_data[index], self.y_data[index]\n",
        "\n",
        "  def __len__(self):\n",
        "    return self.len"
      ],
      "metadata": {
        "id": "oq8iIMqCaeHj"
      },
      "execution_count": 26,
      "outputs": []
    },
    {
      "cell_type": "code",
      "source": [
        "#scikit-learn 을 이용해서 학습 데이터와 평가 데이터로 나눈다. \n",
        "X_train, X_test, Y_train, Y_test = train_test_split(X,Y, test_size= 0.5) # hyper parameter 테스트 사이즈\n",
        "# train데이터와 validation 데이터로 나눈다. \n",
        "X2_train, X_val, Y2_train, Y_val = train_test_split(X_train, Y_train)\n",
        "#학습 데이터랑 시험데이터를 배치 형태로 구축한다.\n",
        "print(X2_train.shape)\n",
        "print(X2_train.ndim)\n",
        "print(X_val.shape)\n",
        "print(Y2_train.shape)\n",
        "print(Y2_train.ndim)\n",
        "print(Y_val.shape)\n",
        "trainsets = TensorData(X2_train, Y2_train)\n",
        "trainLoader = torch.utils.data.DataLoader(trainsets, batch_size = 32, shuffle=True) # 하이퍼 파라미터 배치 사이즈 \n",
        "\n",
        "validationsets = TensorData(X_val, Y_val) #validation set\n",
        "validationLoader = torch.utils.data.DataLoader(validationsets, batch_size=32, shuffle=True)\n",
        "\n",
        "testsets = TensorData(X_test, Y_test) # 테스트 데이터들을 나눠준다. \n",
        "testloader = torch.utils.data.DataLoader(testsets, batch_size = 32, shuffle=True) "
      ],
      "metadata": {
        "colab": {
          "base_uri": "https://localhost:8080/"
        },
        "id": "a5kdrYOKag3R",
        "outputId": "3970915f-f4d4-4170-d7dd-4f42d5688c0d"
      },
      "execution_count": 27,
      "outputs": [
        {
          "output_type": "stream",
          "name": "stdout",
          "text": [
            "(9170, 11)\n",
            "2\n",
            "(3057, 11)\n",
            "(9170, 1)\n",
            "2\n",
            "(3057, 1)\n"
          ]
        }
      ]
    },
    {
      "cell_type": "code",
      "source": [
        "from sklearn.ensemble import RandomForestRegressor\n",
        "from sklearn.datasets import load_iris\n",
        "estimator = RandomForestRegressor(n_estimators=500, \n",
        "                                  bootstrap=True, criterion='mse', \n",
        "                                  max_depth=None, max_leaf_nodes=None, \n",
        "                                  min_samples_split=2, min_samples_leaf=1, \n",
        "                                  max_features='auto') # 랜덤 포레스트는 각 트리를 거친 후의 모든 트리의 평균값으로 값을 냄\n",
        "estimator.fit(X2_train, Y2_train) # 학습 진행\n",
        "print(estimator.score(X2_train, Y2_train))\n",
        "print(estimator.score(X_val, Y_val))\n",
        "print(estimator.score(X_test, Y_test))"
      ],
      "metadata": {
        "colab": {
          "base_uri": "https://localhost:8080/"
        },
        "id": "59_6psH5aj3M",
        "outputId": "72700d74-5802-495b-e381-ae0ca91619c6"
      },
      "execution_count": 28,
      "outputs": [
        {
          "output_type": "stream",
          "name": "stderr",
          "text": [
            "/usr/local/lib/python3.7/dist-packages/ipykernel_launcher.py:8: DataConversionWarning: A column-vector y was passed when a 1d array was expected. Please change the shape of y to (n_samples,), for example using ravel().\n",
            "  \n",
            "/usr/local/lib/python3.7/dist-packages/sklearn/ensemble/_forest.py:400: FutureWarning: Criterion 'mse' was deprecated in v1.0 and will be removed in version 1.2. Use `criterion='squared_error'` which is equivalent.\n",
            "  FutureWarning,\n"
          ]
        },
        {
          "output_type": "stream",
          "name": "stdout",
          "text": [
            "0.9915999503709513\n",
            "0.9473639591340367\n",
            "0.9411936298989252\n"
          ]
        }
      ]
    }
  ]
}